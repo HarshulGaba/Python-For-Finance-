{
 "cells": [
  {
   "cell_type": "code",
   "execution_count": 1,
   "source": [
    "import pandas as pd\r\n",
    "# from nsepy import get_history\r\n",
    "import pandas_datareader as web\r\n",
    "import matplotlib.pyplot as plt\r\n",
    "%matplotlib inline"
   ],
   "outputs": [],
   "metadata": {}
  },
  {
   "cell_type": "code",
   "execution_count": 2,
   "source": [
    "start=pd.to_datetime('2016-01-01')\r\n",
    "end=pd.to_datetime('2021-07-22')"
   ],
   "outputs": [],
   "metadata": {}
  },
  {
   "cell_type": "code",
   "execution_count": 3,
   "source": [
    "nifty50=web.DataReader('^NSEI','yahoo',start,end)"
   ],
   "outputs": [],
   "metadata": {}
  },
  {
   "cell_type": "code",
   "execution_count": 4,
   "source": [
    "nifty50.head()"
   ],
   "outputs": [
    {
     "output_type": "execute_result",
     "data": {
      "text/plain": [
       "                   High          Low         Open        Close    Volume  \\\n",
       "Date                                                                       \n",
       "2016-01-04  7937.549805  7781.100098  7924.549805  7791.299805  134700.0   \n",
       "2016-01-05  7831.200195  7763.250000  7828.399902  7784.649902  145200.0   \n",
       "2016-01-06  7800.950195  7721.200195  7788.049805  7741.000000  147100.0   \n",
       "2016-01-07  7674.950195  7556.600098  7673.350098  7568.299805  188900.0   \n",
       "2016-01-08  7634.100098  7581.049805  7611.649902  7601.350098  157400.0   \n",
       "\n",
       "              Adj Close  \n",
       "Date                     \n",
       "2016-01-04  7791.299805  \n",
       "2016-01-05  7784.649902  \n",
       "2016-01-06  7741.000000  \n",
       "2016-01-07  7568.299805  \n",
       "2016-01-08  7601.350098  "
      ],
      "text/html": [
       "<div>\n",
       "<style scoped>\n",
       "    .dataframe tbody tr th:only-of-type {\n",
       "        vertical-align: middle;\n",
       "    }\n",
       "\n",
       "    .dataframe tbody tr th {\n",
       "        vertical-align: top;\n",
       "    }\n",
       "\n",
       "    .dataframe thead th {\n",
       "        text-align: right;\n",
       "    }\n",
       "</style>\n",
       "<table border=\"1\" class=\"dataframe\">\n",
       "  <thead>\n",
       "    <tr style=\"text-align: right;\">\n",
       "      <th></th>\n",
       "      <th>High</th>\n",
       "      <th>Low</th>\n",
       "      <th>Open</th>\n",
       "      <th>Close</th>\n",
       "      <th>Volume</th>\n",
       "      <th>Adj Close</th>\n",
       "    </tr>\n",
       "    <tr>\n",
       "      <th>Date</th>\n",
       "      <th></th>\n",
       "      <th></th>\n",
       "      <th></th>\n",
       "      <th></th>\n",
       "      <th></th>\n",
       "      <th></th>\n",
       "    </tr>\n",
       "  </thead>\n",
       "  <tbody>\n",
       "    <tr>\n",
       "      <th>2016-01-04</th>\n",
       "      <td>7937.549805</td>\n",
       "      <td>7781.100098</td>\n",
       "      <td>7924.549805</td>\n",
       "      <td>7791.299805</td>\n",
       "      <td>134700.0</td>\n",
       "      <td>7791.299805</td>\n",
       "    </tr>\n",
       "    <tr>\n",
       "      <th>2016-01-05</th>\n",
       "      <td>7831.200195</td>\n",
       "      <td>7763.250000</td>\n",
       "      <td>7828.399902</td>\n",
       "      <td>7784.649902</td>\n",
       "      <td>145200.0</td>\n",
       "      <td>7784.649902</td>\n",
       "    </tr>\n",
       "    <tr>\n",
       "      <th>2016-01-06</th>\n",
       "      <td>7800.950195</td>\n",
       "      <td>7721.200195</td>\n",
       "      <td>7788.049805</td>\n",
       "      <td>7741.000000</td>\n",
       "      <td>147100.0</td>\n",
       "      <td>7741.000000</td>\n",
       "    </tr>\n",
       "    <tr>\n",
       "      <th>2016-01-07</th>\n",
       "      <td>7674.950195</td>\n",
       "      <td>7556.600098</td>\n",
       "      <td>7673.350098</td>\n",
       "      <td>7568.299805</td>\n",
       "      <td>188900.0</td>\n",
       "      <td>7568.299805</td>\n",
       "    </tr>\n",
       "    <tr>\n",
       "      <th>2016-01-08</th>\n",
       "      <td>7634.100098</td>\n",
       "      <td>7581.049805</td>\n",
       "      <td>7611.649902</td>\n",
       "      <td>7601.350098</td>\n",
       "      <td>157400.0</td>\n",
       "      <td>7601.350098</td>\n",
       "    </tr>\n",
       "  </tbody>\n",
       "</table>\n",
       "</div>"
      ]
     },
     "metadata": {},
     "execution_count": 4
    }
   ],
   "metadata": {}
  },
  {
   "cell_type": "code",
   "execution_count": 5,
   "source": [
    "reliance=web.DataReader('RELIANCE.NS','yahoo',start,end)"
   ],
   "outputs": [],
   "metadata": {}
  },
  {
   "cell_type": "code",
   "execution_count": 6,
   "source": [
    "reliance.head()"
   ],
   "outputs": [
    {
     "output_type": "execute_result",
     "data": {
      "text/plain": [
       "                  High         Low        Open       Close      Volume  \\\n",
       "Date                                                                     \n",
       "2016-01-01  504.666260  499.366516  500.158997  502.907928   2499742.0   \n",
       "2016-01-04  502.140198  488.717438  497.781525  492.977081  13923887.0   \n",
       "2016-01-05  500.258057  493.819092  495.453583  497.855835   6897687.0   \n",
       "2016-01-06  514.324707  495.503113  499.069336  511.253815  12349673.0   \n",
       "2016-01-07  509.173553  499.292206  505.731171  501.867798   9109980.0   \n",
       "\n",
       "             Adj Close  \n",
       "Date                    \n",
       "2016-01-01  484.996368  \n",
       "2016-01-04  475.419250  \n",
       "2016-01-05  480.124207  \n",
       "2016-01-06  493.045013  \n",
       "2016-01-07  483.993256  "
      ],
      "text/html": [
       "<div>\n",
       "<style scoped>\n",
       "    .dataframe tbody tr th:only-of-type {\n",
       "        vertical-align: middle;\n",
       "    }\n",
       "\n",
       "    .dataframe tbody tr th {\n",
       "        vertical-align: top;\n",
       "    }\n",
       "\n",
       "    .dataframe thead th {\n",
       "        text-align: right;\n",
       "    }\n",
       "</style>\n",
       "<table border=\"1\" class=\"dataframe\">\n",
       "  <thead>\n",
       "    <tr style=\"text-align: right;\">\n",
       "      <th></th>\n",
       "      <th>High</th>\n",
       "      <th>Low</th>\n",
       "      <th>Open</th>\n",
       "      <th>Close</th>\n",
       "      <th>Volume</th>\n",
       "      <th>Adj Close</th>\n",
       "    </tr>\n",
       "    <tr>\n",
       "      <th>Date</th>\n",
       "      <th></th>\n",
       "      <th></th>\n",
       "      <th></th>\n",
       "      <th></th>\n",
       "      <th></th>\n",
       "      <th></th>\n",
       "    </tr>\n",
       "  </thead>\n",
       "  <tbody>\n",
       "    <tr>\n",
       "      <th>2016-01-01</th>\n",
       "      <td>504.666260</td>\n",
       "      <td>499.366516</td>\n",
       "      <td>500.158997</td>\n",
       "      <td>502.907928</td>\n",
       "      <td>2499742.0</td>\n",
       "      <td>484.996368</td>\n",
       "    </tr>\n",
       "    <tr>\n",
       "      <th>2016-01-04</th>\n",
       "      <td>502.140198</td>\n",
       "      <td>488.717438</td>\n",
       "      <td>497.781525</td>\n",
       "      <td>492.977081</td>\n",
       "      <td>13923887.0</td>\n",
       "      <td>475.419250</td>\n",
       "    </tr>\n",
       "    <tr>\n",
       "      <th>2016-01-05</th>\n",
       "      <td>500.258057</td>\n",
       "      <td>493.819092</td>\n",
       "      <td>495.453583</td>\n",
       "      <td>497.855835</td>\n",
       "      <td>6897687.0</td>\n",
       "      <td>480.124207</td>\n",
       "    </tr>\n",
       "    <tr>\n",
       "      <th>2016-01-06</th>\n",
       "      <td>514.324707</td>\n",
       "      <td>495.503113</td>\n",
       "      <td>499.069336</td>\n",
       "      <td>511.253815</td>\n",
       "      <td>12349673.0</td>\n",
       "      <td>493.045013</td>\n",
       "    </tr>\n",
       "    <tr>\n",
       "      <th>2016-01-07</th>\n",
       "      <td>509.173553</td>\n",
       "      <td>499.292206</td>\n",
       "      <td>505.731171</td>\n",
       "      <td>501.867798</td>\n",
       "      <td>9109980.0</td>\n",
       "      <td>483.993256</td>\n",
       "    </tr>\n",
       "  </tbody>\n",
       "</table>\n",
       "</div>"
      ]
     },
     "metadata": {},
     "execution_count": 6
    }
   ],
   "metadata": {}
  },
  {
   "cell_type": "code",
   "execution_count": 7,
   "source": [
    "reliance['Close'].plot(label='Reliance',figsize=(10,8))\r\n",
    "nifty50['Close'].plot(label='Nifty 500')\r\n",
    "plt.legend()"
   ],
   "outputs": [
    {
     "output_type": "execute_result",
     "data": {
      "text/plain": [
       "<matplotlib.legend.Legend at 0x1f346ae49d0>"
      ]
     },
     "metadata": {},
     "execution_count": 7
    },
    {
     "output_type": "display_data",
     "data": {
      "text/plain": [
       "<Figure size 720x576 with 1 Axes>"
      ],
      "image/png": ""
     },
     "metadata": {
      "needs_background": "light"
     }
    }
   ],
   "metadata": {}
  },
  {
   "cell_type": "code",
   "execution_count": 8,
   "source": [
    "reliance['Cumulative Return']=reliance['Close']/reliance['Close'][0]\r\n",
    "nifty50['Cumulative Return']=nifty50['Close']/nifty50['Close'][0]"
   ],
   "outputs": [],
   "metadata": {}
  },
  {
   "cell_type": "code",
   "execution_count": 9,
   "source": [
    "reliance['Cumulative Return'].plot(label='Reliance',figsize=(10,5))\r\n",
    "nifty50['Cumulative Return'].plot(label='Nifty 50')\r\n",
    "plt.legend()"
   ],
   "outputs": [
    {
     "output_type": "execute_result",
     "data": {
      "text/plain": [
       "<matplotlib.legend.Legend at 0x1f34699aa60>"
      ]
     },
     "metadata": {},
     "execution_count": 9
    },
    {
     "output_type": "display_data",
     "data": {
      "text/plain": [
       "<Figure size 720x360 with 1 Axes>"
      ],
      "image/png": ""
     },
     "metadata": {
      "needs_background": "light"
     }
    }
   ],
   "metadata": {}
  },
  {
   "cell_type": "code",
   "execution_count": 10,
   "source": [
    "reliance['Daily Return']=reliance['Close'].pct_change(1)\r\n",
    "nifty50['Daily Return']=nifty50['Close'].pct_change(1)"
   ],
   "outputs": [],
   "metadata": {}
  },
  {
   "cell_type": "code",
   "execution_count": 11,
   "source": [
    "reliance['Daily Return'].plot(label='Reliance',figsize=(10,8))\r\n",
    "nifty50['Daily Return'].plot(label='Nifty 50')"
   ],
   "outputs": [
    {
     "output_type": "execute_result",
     "data": {
      "text/plain": [
       "<AxesSubplot:xlabel='Date'>"
      ]
     },
     "metadata": {},
     "execution_count": 11
    },
    {
     "output_type": "display_data",
     "data": {
      "text/plain": [
       "<Figure size 720x576 with 1 Axes>"
      ],
      "image/png": ""
     },
     "metadata": {
      "needs_background": "light"
     }
    }
   ],
   "metadata": {}
  },
  {
   "cell_type": "markdown",
   "source": [
    "# Making the number of rows equal"
   ],
   "metadata": {}
  },
  {
   "cell_type": "code",
   "execution_count": 14,
   "source": [
    "j=0\r\n",
    "for i in range(2):\r\n",
    "    while(nifty50.index[j]==reliance.index[j]):\r\n",
    "        j+=1\r\n",
    "    reliance.drop(reliance.index[j],inplace=True\r\n",
    "    )\r\n",
    "    i+=1"
   ],
   "outputs": [],
   "metadata": {}
  },
  {
   "cell_type": "code",
   "execution_count": 15,
   "source": [
    "plt.scatter(reliance['Daily Return'],nifty50['Daily Return'],alpha=0.25)"
   ],
   "outputs": [
    {
     "output_type": "execute_result",
     "data": {
      "text/plain": [
       "<matplotlib.collections.PathCollection at 0x1f3476bf100>"
      ]
     },
     "metadata": {},
     "execution_count": 15
    },
    {
     "output_type": "display_data",
     "data": {
      "text/plain": [
       "<Figure size 432x288 with 1 Axes>"
      ],
      "image/png": ""
     },
     "metadata": {
      "needs_background": "light"
     }
    }
   ],
   "metadata": {}
  },
  {
   "cell_type": "code",
   "execution_count": null,
   "source": [
    "from scipy import stats"
   ],
   "outputs": [],
   "metadata": {}
  },
  {
   "cell_type": "code",
   "execution_count": null,
   "source": [
    "stats.linregress(reliance['Daily Return'].iloc[1:],nifty50['Daily Return'].iloc[1:])"
   ],
   "outputs": [
    {
     "output_type": "execute_result",
     "data": {
      "text/plain": [
       "LinregressResult(slope=0.37740711288215967, intercept=0.00011551554162538002, rvalue=0.6326413154457285, pvalue=2.814698001884813e-153, stderr=0.012523162458063907, intercept_stderr=0.00024044063053747826)"
      ]
     },
     "metadata": {},
     "execution_count": 138
    }
   ],
   "metadata": {}
  },
  {
   "cell_type": "code",
   "execution_count": null,
   "source": [
    "reliance.head()"
   ],
   "outputs": [
    {
     "output_type": "execute_result",
     "data": {
      "text/plain": [
       "                  High         Low        Open       Close      Volume  \\\n",
       "Date                                                                     \n",
       "2016-01-04  502.140198  488.717438  497.781525  492.977081  13923887.0   \n",
       "2016-01-05  500.258057  493.819092  495.453583  497.855835   6897687.0   \n",
       "2016-01-06  514.324707  495.503113  499.069336  511.253815  12349673.0   \n",
       "2016-01-07  509.173553  499.292206  505.731171  501.867798   9109980.0   \n",
       "2016-01-08  511.600525  503.576599  505.211090  508.059113   9836038.0   \n",
       "\n",
       "             Adj Close  Cumulative Return  Daily Return  \n",
       "Date                                                     \n",
       "2016-01-04  475.419250           0.980253     -0.019747  \n",
       "2016-01-05  480.124207           0.989954      0.009897  \n",
       "2016-01-06  493.045013           1.016595      0.026911  \n",
       "2016-01-07  483.993256           0.997932     -0.018359  \n",
       "2016-01-08  489.964081           1.010243      0.012337  "
      ],
      "text/html": [
       "<div>\n",
       "<style scoped>\n",
       "    .dataframe tbody tr th:only-of-type {\n",
       "        vertical-align: middle;\n",
       "    }\n",
       "\n",
       "    .dataframe tbody tr th {\n",
       "        vertical-align: top;\n",
       "    }\n",
       "\n",
       "    .dataframe thead th {\n",
       "        text-align: right;\n",
       "    }\n",
       "</style>\n",
       "<table border=\"1\" class=\"dataframe\">\n",
       "  <thead>\n",
       "    <tr style=\"text-align: right;\">\n",
       "      <th></th>\n",
       "      <th>High</th>\n",
       "      <th>Low</th>\n",
       "      <th>Open</th>\n",
       "      <th>Close</th>\n",
       "      <th>Volume</th>\n",
       "      <th>Adj Close</th>\n",
       "      <th>Cumulative Return</th>\n",
       "      <th>Daily Return</th>\n",
       "    </tr>\n",
       "    <tr>\n",
       "      <th>Date</th>\n",
       "      <th></th>\n",
       "      <th></th>\n",
       "      <th></th>\n",
       "      <th></th>\n",
       "      <th></th>\n",
       "      <th></th>\n",
       "      <th></th>\n",
       "      <th></th>\n",
       "    </tr>\n",
       "  </thead>\n",
       "  <tbody>\n",
       "    <tr>\n",
       "      <th>2016-01-04</th>\n",
       "      <td>502.140198</td>\n",
       "      <td>488.717438</td>\n",
       "      <td>497.781525</td>\n",
       "      <td>492.977081</td>\n",
       "      <td>13923887.0</td>\n",
       "      <td>475.419250</td>\n",
       "      <td>0.980253</td>\n",
       "      <td>-0.019747</td>\n",
       "    </tr>\n",
       "    <tr>\n",
       "      <th>2016-01-05</th>\n",
       "      <td>500.258057</td>\n",
       "      <td>493.819092</td>\n",
       "      <td>495.453583</td>\n",
       "      <td>497.855835</td>\n",
       "      <td>6897687.0</td>\n",
       "      <td>480.124207</td>\n",
       "      <td>0.989954</td>\n",
       "      <td>0.009897</td>\n",
       "    </tr>\n",
       "    <tr>\n",
       "      <th>2016-01-06</th>\n",
       "      <td>514.324707</td>\n",
       "      <td>495.503113</td>\n",
       "      <td>499.069336</td>\n",
       "      <td>511.253815</td>\n",
       "      <td>12349673.0</td>\n",
       "      <td>493.045013</td>\n",
       "      <td>1.016595</td>\n",
       "      <td>0.026911</td>\n",
       "    </tr>\n",
       "    <tr>\n",
       "      <th>2016-01-07</th>\n",
       "      <td>509.173553</td>\n",
       "      <td>499.292206</td>\n",
       "      <td>505.731171</td>\n",
       "      <td>501.867798</td>\n",
       "      <td>9109980.0</td>\n",
       "      <td>483.993256</td>\n",
       "      <td>0.997932</td>\n",
       "      <td>-0.018359</td>\n",
       "    </tr>\n",
       "    <tr>\n",
       "      <th>2016-01-08</th>\n",
       "      <td>511.600525</td>\n",
       "      <td>503.576599</td>\n",
       "      <td>505.211090</td>\n",
       "      <td>508.059113</td>\n",
       "      <td>9836038.0</td>\n",
       "      <td>489.964081</td>\n",
       "      <td>1.010243</td>\n",
       "      <td>0.012337</td>\n",
       "    </tr>\n",
       "  </tbody>\n",
       "</table>\n",
       "</div>"
      ]
     },
     "metadata": {},
     "execution_count": 139
    }
   ],
   "metadata": {}
  }
 ],
 "metadata": {
  "orig_nbformat": 4,
  "language_info": {
   "name": "python",
   "version": "3.8.8",
   "mimetype": "text/x-python",
   "codemirror_mode": {
    "name": "ipython",
    "version": 3
   },
   "pygments_lexer": "ipython3",
   "nbconvert_exporter": "python",
   "file_extension": ".py"
  },
  "kernelspec": {
   "name": "python3",
   "display_name": "Python 3.8.8 64-bit ('base': conda)"
  },
  "interpreter": {
   "hash": "6277a9cc0887def4b0e6d6ec3b9ab32f5244dcf34e615fc56b1eb4ba750ab0a2"
  }
 },
 "nbformat": 4,
 "nbformat_minor": 2
}